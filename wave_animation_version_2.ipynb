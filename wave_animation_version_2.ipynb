{
 "cells": [
  {
   "cell_type": "markdown",
   "id": "1c92ece9",
   "metadata": {},
   "source": [
    "## Initial imports"
   ]
  },
  {
   "cell_type": "code",
   "execution_count": null,
   "id": "7c6caaee",
   "metadata": {},
   "outputs": [],
   "source": [
    "#!/usr/bin/env python\n",
    "#code modified from Jake Vanderplas\n",
    "\n",
    "import numpy as np\n",
    "from matplotlib import pyplot as plt\n",
    "from matplotlib import animation\n",
    "from scipy.fftpack import fft,ifft\n",
    "\n",
    "#from google.colab import drive\n",
    "#drive.mount('/content/drive')"
   ]
  },
  {
   "cell_type": "markdown",
   "id": "6a8305a3",
   "metadata": {},
   "source": [
    "## Enable interactive plotting"
   ]
  },
  {
   "cell_type": "code",
   "execution_count": null,
   "id": "a221039b",
   "metadata": {},
   "outputs": [],
   "source": [
    "%matplotlib notebook"
   ]
  },
  {
   "cell_type": "markdown",
   "id": "84765712",
   "metadata": {},
   "source": [
    "## Shrodinger Class"
   ]
  },
  {
   "cell_type": "code",
   "execution_count": null,
   "id": "0b7f7dd4",
   "metadata": {},
   "outputs": [],
   "source": [
    "class Schrodinger:\n",
    "\n",
    "    def __init__(self, x, psi_x0, V_x, k0 = None, hbar=1, m=1, t0=0.0):\n",
    "        \"\"\"\n",
    "        x = xaxis array of length N giving position\n",
    "        V_x = yaxis array of length N giving potential\n",
    "        psi_x0 = array of length N giving intial wave function at t0\n",
    "        k0 gives the minimumum value of the momentum (there are some constraints on this due to\n",
    "        the FFT: k0 < k < 2pi/dx where dx = x[1]-x[0])\n",
    "        default hbar = 1 and mass = 1 and initial time = 0\n",
    "        \"\"\"\n",
    "        self.x, psi_x0, self.V_x = map(np.asarray, (x, psi_x0, V_x))\n",
    "        N = self.x.size\n",
    "        assert self.x.shape == (N,)\n",
    "        assert psi_x0.shape == (N,)\n",
    "        assert self.V_x.shape == (N,)\n",
    "\n",
    "        # Set basic attributes        \n",
    "        self.hbar = hbar\n",
    "        self.m = m\n",
    "        self.t = t0\n",
    "        self.N = len(x)\n",
    "        # Note that _dt will be accessed and modified via the property self.dt defined below\n",
    "        self._dt = None\n",
    "\n",
    "        # Set the positive step (similar to doing dx = b-a/N as coordinates are evenly spaced)\n",
    "        self.dx = self.x[1] - self.x[0] \n",
    "\n",
    "        # Set dk = 2pi/Ndx (do this so FFT looks like continuous fourier transform)\n",
    "        # This means that dk = 2pi/(b-a)\n",
    "        self.dk = 2 * np.pi / (self.N * self.dx) \n",
    "\n",
    "        # Set k0 according for both cases: input or not        \n",
    "        if k0 == None:\n",
    "            self.k0 = -0.5 * self.N * self.dk\n",
    "        else:\n",
    "            self.k0 = k0\n",
    "\n",
    "        # Set k as an array of length N of the form [k0, k0+dk, k0 + 2*dk, ..., k0 + (N-1) * dk]      \n",
    "        self.k = self.k0 + self.dk * np.arange(self.N) \n",
    "\n",
    "        # psi_x is set as a property (with private value  _psi_discrete_x) \n",
    "        self.psi_x = psi_x0\n",
    "\n",
    "        \n",
    "    #######################################\n",
    "    ### Definitions for properties here\n",
    "    #######################################\n",
    "\n",
    "    @property\n",
    "    def psi_x(self):\n",
    "        \"\"\"\n",
    "        The accessor (getter) for ps_x. \n",
    "        This just brings it back to the original version of psi(x)\n",
    "        \"\"\"\n",
    "        return (self._psi_discrete_x * np.exp(1j * self.k[0] * self.x) * np.sqrt(2 * np.pi) / self.dx)\n",
    "\n",
    "    # Because we are using the discrete FFT and iFFT, we have to change psi(x,t) to dx/2pi * psi(x,t) e^(-i k_0 x):\n",
    "    @psi_x.setter\n",
    "    def psi_x(self, in_value_psi_x):\n",
    "        \"\"\"\n",
    "        Gives the discrete vesion of psi needed for the FFT and iFFT\n",
    "        \"\"\"\n",
    "        self._psi_discrete_x = (in_value_psi_x * np.exp(-1j * self.k[0] * self.x) * self.dx / np.sqrt(2 * np.pi))\n",
    "        \n",
    "    @property\n",
    "    def dt(self):\n",
    "        \"\"\"\n",
    "        The accessor (getter) for dt. \n",
    "        \"\"\"\n",
    "        return self._dt\n",
    "\n",
    "    @dt.setter\n",
    "    def dt(self, in_value_dt):\n",
    "        \"\"\"\n",
    "        Sets private attributes _dt, _x_evolve_half and _k_evolve\n",
    "        \"\"\"\n",
    "        if in_value_dt != self._dt:\n",
    "            self._dt = in_value_dt\n",
    "            self._x_evolve_half = np.exp(-0.5 * 1j * self.V_x / self.hbar * in_value_dt ) \n",
    "            self._k_evolve = np.exp(-0.5 * 1j * self.hbar / self.m * (self.k * self.k) * in_value_dt)\n",
    "        return None\n",
    "\n",
    "    def time_step(self, dt, Nsteps = 1):\n",
    "        self.dt = dt\n",
    "\n",
    "        # Then we do the split step fourier method (strang splitting):\n",
    "        for i in range(Nsteps):\n",
    "            #half step in position:\n",
    "            self._psi_discrete_x *= self._x_evolve_half\n",
    "            #FFT\n",
    "            self._psi_discrete_k = fft(self._psi_discrete_x)\n",
    "            #full step in momentum\n",
    "            self._psi_discrete_k *= self._k_evolve\n",
    "            #iFFT\n",
    "            self._psi_discrete_x = ifft(self._psi_discrete_k)\n",
    "            #half step in position\n",
    "            self._psi_discrete_x *= self._x_evolve_half\n",
    "\n",
    "        self.t += dt * Nsteps"
   ]
  },
  {
   "cell_type": "markdown",
   "id": "34941229",
   "metadata": {},
   "source": [
    "## Gauss"
   ]
  },
  {
   "cell_type": "code",
   "execution_count": null,
   "id": "2eaac283",
   "metadata": {},
   "outputs": [],
   "source": [
    "def gauss_x(x, a, x0, k0):\n",
    "    \"\"\"\n",
    "    Inputs: array x, width a, centred at x0, with momentum k0. \n",
    "    \"\"\"\n",
    "    return ((a * np.sqrt(np.pi)) ** (-0.5) * np.exp(-0.5 * ((x - x0) * 1. / a) ** 2 + 1j * x * k0))"
   ]
  },
  {
   "cell_type": "markdown",
   "id": "5998bb92",
   "metadata": {},
   "source": [
    "## Variables "
   ]
  },
  {
   "cell_type": "code",
   "execution_count": null,
   "id": "4f571fc1",
   "metadata": {},
   "outputs": [],
   "source": [
    "dt = 0.01\n",
    "N_steps = 50\n",
    "#N_steps = 200\n",
    "t_max = 200\n",
    "\n",
    "# Change tmax to run for longer / shorter times\n",
    "frames = int(t_max / float(N_steps * dt))\n",
    "\n",
    "# Specify constants\n",
    "hbar = 1.0  \n",
    "m = 1.0      \n",
    "\n",
    "# Specify range in x coordinate\n",
    "N = 2 ** 11\n",
    "dx = 0.1\n",
    "x = dx * (np.arange(N) - 0.5 * N)\n",
    "\n",
    "# This is the potential barrier\n",
    "V0 = 1.0\n",
    "L = hbar / np.sqrt(2 * m * V0)\n",
    "x0 = -60 * L\n",
    "V_x = np.e**((-x**2)/1) \n",
    "#+ np.e**((-(x+75)**2)/1) + np.e**((-(x-75)**2)/1)\n",
    "\n",
    "# Potential 'walls' at either end\n",
    "V_x[x < -98] = 1E6 \n",
    "V_x[x > 98] = 1E6\n",
    "\n",
    "\n",
    "# Specify initial momentum and quantities derived from it\n",
    "p0 = np.sqrt(2 * m * 0.8 * V0)\n",
    "dp2 = p0 * p0 * 1./80\n",
    "d = hbar / np.sqrt(2 * dp2)\n",
    "\n",
    "k0 = p0 / hbar\n",
    "v0 = p0 / m\n",
    "psi_x0 = gauss_x(x, d, x0, k0)"
   ]
  },
  {
   "cell_type": "markdown",
   "id": "14dd975e",
   "metadata": {},
   "source": [
    "## Initialise Schrodinger "
   ]
  },
  {
   "cell_type": "code",
   "execution_count": null,
   "id": "d6707baa",
   "metadata": {},
   "outputs": [],
   "source": [
    "S = Schrodinger(x=x, psi_x0=psi_x0, V_x=V_x, hbar=hbar, m=m, k0=-28) "
   ]
  },
  {
   "cell_type": "markdown",
   "id": "0530d856",
   "metadata": {},
   "source": [
    "## The animation"
   ]
  },
  {
   "cell_type": "code",
   "execution_count": null,
   "id": "eb65bcea",
   "metadata": {},
   "outputs": [],
   "source": [
    "fig = plt.figure(figsize=(10,5))\n",
    "\n",
    "xlim = (-100, 100)\n",
    "ymin = 0\n",
    "ymax = 1.5*V0\n",
    "#was 1.5*V0\n",
    "ax = fig.add_subplot(111, xlim=xlim, ylim=(ymin * (ymax - ymin), ymax + 0.2 * (ymax - ymin)))\n",
    "psi_x_line, = ax.plot([], [], c='r', label=r'$|\\psi(x)|^2$')\n",
    "V_x_line, = ax.plot([], [], c='k', label=r'$V(x)$')\n",
    "\n",
    "title = ax.set_title('')\n",
    "ax.legend(prop = dict(size=12))\n",
    "ax.set_xlabel('$x$')\n",
    "ax.set_ylabel(r'$|\\psi(x)|^2$')\n",
    "\n",
    "def init():\n",
    "    psi_x_line.set_data([], [])\n",
    "    V_x_line.set_data([], [])\n",
    "    return (psi_x_line, V_x_line)\n",
    "\n",
    "def animate(i):\n",
    "    S.time_step(dt, N_steps)\n",
    "    psi_x_line.set_data(S.x, 4 * abs(S.psi_x)**2)\n",
    "    V_x_line.set_data(S.x, S.V_x)\n",
    "    # title.set_text('t=%.2f' %S.t)\n",
    "    return (psi_x_line, V_x_line)\n",
    "\n",
    "anim = animation.FuncAnimation(fig, animate, init_func=init, frames=frames, interval=16, blit=True)\n",
    "\n",
    "#anim.save('/content/drive/MyDrive/Summer_Project/wave_experiment.mp4', fps=15, extra_args=['-vcodec', 'libx264'])\n",
    "# anim.save('wave_experiment.mp4', fps=15, extra_args=['-vcodec', 'libx264'])\n",
    "\n",
    "\n",
    "plt.show()"
   ]
  },
  {
   "cell_type": "code",
   "execution_count": null,
   "id": "9e747231",
   "metadata": {},
   "outputs": [],
   "source": []
  }
 ],
 "metadata": {
  "kernelspec": {
   "display_name": "py39",
   "language": "python",
   "name": "py39"
  },
  "language_info": {
   "codemirror_mode": {
    "name": "ipython",
    "version": 3
   },
   "file_extension": ".py",
   "mimetype": "text/x-python",
   "name": "python",
   "nbconvert_exporter": "python",
   "pygments_lexer": "ipython3",
   "version": "3.9.13"
  }
 },
 "nbformat": 4,
 "nbformat_minor": 5
}

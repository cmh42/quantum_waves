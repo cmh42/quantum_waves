{
 "cells": [
  {
   "cell_type": "markdown",
   "id": "1c92ece9",
   "metadata": {},
   "source": [
    "## Initial imports"
   ]
  },
  {
   "cell_type": "code",
   "execution_count": null,
   "id": "7c6caaee",
   "metadata": {},
   "outputs": [],
   "source": [
    "#!/usr/bin/env python\n",
    "# Code modified from Jake Vanderplas, Jess Winterborne\n",
    "\n",
    "import numpy as np\n",
    "from matplotlib import pyplot as plt\n",
    "from matplotlib import animation\n",
    "from scipy.fftpack import fft,ifft\n",
    "\n",
    "#from google.colab import drive\n",
    "#drive.mount('/content/drive')"
   ]
  },
  {
   "cell_type": "markdown",
   "id": "6a8305a3",
   "metadata": {},
   "source": [
    "## Enable interactive plotting"
   ]
  },
  {
   "cell_type": "code",
   "execution_count": null,
   "id": "a221039b",
   "metadata": {},
   "outputs": [],
   "source": [
    "%matplotlib notebook"
   ]
  },
  {
   "cell_type": "markdown",
   "id": "84765712",
   "metadata": {},
   "source": [
    "## Functions to initialise the system and  (define and) manage global variables. "
   ]
  },
  {
   "cell_type": "code",
   "execution_count": null,
   "id": "a7ce1b11",
   "metadata": {},
   "outputs": [],
   "source": [
    "def initialise_schrodinger(x, psi_x0, V_x, k0=None, hbar=1, m=1, t0=0.0):\n",
    "    \"\"\"\n",
    "    Initialises all the global variables listed below. \n",
    "    Inputs x, psi_x0, V_x are list/arrays. \n",
    "    Inputs k0, hbar, m, t0 are constants.\n",
    "    \"\"\"\n",
    "    global G_x, G_psi_discrete_x, G_V_x\n",
    "    global G_hbar, G_m, G_N\n",
    "    global G_t, G_dt\n",
    "    global G_dx, G_dk\n",
    "    global G_k, G_k0\n",
    "    \n",
    "    G_x =  np.asarray(x)\n",
    "    psi_x0 = np.asarray(psi_x0)\n",
    "    G_V_x = np.asarray(V_x)\n",
    "\n",
    "    N = G_x.size\n",
    "    try:\n",
    "        assert G_x.shape == (N,)\n",
    "        assert psi_x0.shape == (N,)\n",
    "        assert G_V_x.shape == (N,)\n",
    "    except AssertionError as err: \n",
    "        print(\"There was a problem with the array lengths: \" + str(err))\n",
    "        \n",
    "    G_hbar, G_m, G_N = hbar, m, N\n",
    "    G_t, G_dt = t0, None\n",
    "    G_dx = G_x[1] - G_x[0]\n",
    "    G_dk = 2 * np.pi / (G_N * G_dx)\n",
    "    G_k0 = -0.5 * G_N * G_dk if k0 is None else k0\n",
    "\n",
    "    G_k = G_k0 + G_dk * np.arange(G_N)\n",
    "    G_psi_discrete_x = psi_x0 * np.exp(-1j * G_k[0] * G_x) * G_dx / np.sqrt(2 * np.pi)\n",
    "    return None \n",
    "\n",
    "def get_psi_x():\n",
    "    \"\"\"\n",
    "    Returns the non-discrete version of psi_x. \n",
    "    \"\"\"\n",
    "    global G_psi_discrete_x, G_k, G_x, G_dx\n",
    "    return G_psi_discrete_x * np.exp(1j * G_k[0] * G_x) * np.sqrt(2 * np.pi) / G_dx\n",
    "\n",
    "def set_G_dt(dt):\n",
    "    \"\"\"\n",
    "    Updates G_t and the other two  global variables below.\n",
    "    When first called defines the global variables G_x_evolve_half and G_k_evolve.\n",
    "    \"\"\"\n",
    "    global G_dt, G_x_evolve_half, G_k_evolve\n",
    "    if dt != G_dt:\n",
    "        G_dt = dt\n",
    "        G_x_evolve_half = np.exp(-0.5 * 1j * G_V_x / G_hbar * dt ) \n",
    "        G_k_evolve = np.exp(-0.5 * 1j * G_hbar / G_m * (G_k * G_k) * dt)\n",
    "        return None\n",
    "    \n",
    "def time_step(dt, Nsteps = 1):\n",
    "    \"\"\"\n",
    "    Udates G_psi_discrete_k and G_psi_discrete_x using the Fast Fourier \n",
    "    Transform and inverse Fast Fourier Transform. Uses the global variables \n",
    "    associated with G_dt. Overall update time involved is dt * Nsteps.\n",
    "    \"\"\"\n",
    "    global G_t, G_x_evolve_half, G_k_evolve \n",
    "    global G_psi_discrete_k, G_psi_discrete_x\n",
    "\n",
    "    # Set/update the variables associated with G_dt\n",
    "    set_G_dt(dt)\n",
    "\n",
    "    # Then we do the split step fourier method (strang splitting):\n",
    "    for i in range(Nsteps):\n",
    "        #half step in position:\n",
    "        G_psi_discrete_x *= G_x_evolve_half\n",
    "        #FFT\n",
    "        G_psi_discrete_k = fft(G_psi_discrete_x)\n",
    "        #full step in momentum\n",
    "        G_psi_discrete_k *= G_k_evolve\n",
    "        #iFFT\n",
    "        G_psi_discrete_x = ifft(G_psi_discrete_k)\n",
    "        #half step in position\n",
    "        G_psi_discrete_x *= G_x_evolve_half\n",
    "\n",
    "    G_t += dt * Nsteps\n",
    "    return None "
   ]
  },
  {
   "cell_type": "markdown",
   "id": "34941229",
   "metadata": {},
   "source": [
    "## Gauss"
   ]
  },
  {
   "cell_type": "code",
   "execution_count": null,
   "id": "2eaac283",
   "metadata": {},
   "outputs": [],
   "source": [
    "def gauss_x(x, a, x0, k0):\n",
    "    \"\"\"\n",
    "    Inputs: array x, width a, centred at x0, with momentum k0. \n",
    "    \"\"\"\n",
    "    return ((a * np.sqrt(np.pi)) ** (-0.5) * np.exp(-0.5 * ((x - x0) * 1. / a) ** 2 + 1j * x * k0))"
   ]
  },
  {
   "cell_type": "markdown",
   "id": "5998bb92",
   "metadata": {},
   "source": [
    "## Variables "
   ]
  },
  {
   "cell_type": "code",
   "execution_count": null,
   "id": "4f571fc1",
   "metadata": {},
   "outputs": [],
   "source": [
    "dt = 0.01\n",
    "N_steps = 50\n",
    "#N_steps = 200\n",
    "t_max = 200\n",
    "\n",
    "# Change tmax to run for longer / shorter times\n",
    "frames = int(t_max / float(N_steps * dt))\n",
    "\n",
    "# Specify constants\n",
    "hbar = 1.0  \n",
    "m = 1.0      \n",
    "\n",
    "# Specify range in x coordinate\n",
    "N = 2 ** 11\n",
    "dx = 0.1\n",
    "x = dx * (np.arange(N) - 0.5 * N)\n",
    "\n",
    "# This is the potential barrier\n",
    "V0 = 1.0\n",
    "L = hbar / np.sqrt(2 * m * V0)\n",
    "x0 = -60 * L\n",
    "V_x = np.e**((-x**2)/1) \n",
    "#+ np.e**((-(x+75)**2)/1) + np.e**((-(x-75)**2)/1)\n",
    "\n",
    "# Potential 'walls' at either end\n",
    "V_x[x < -98] = 1E6 \n",
    "V_x[x > 98] = 1E6\n",
    "\n",
    "\n",
    "# Specify initial momentum and quantities derived from it\n",
    "p0 = np.sqrt(2 * m * 0.8 * V0)\n",
    "dp2 = p0 * p0 * 1./80\n",
    "d = hbar / np.sqrt(2 * dp2)\n",
    "\n",
    "k0 = p0 / hbar\n",
    "v0 = p0 / m\n",
    "psi_x0 = gauss_x(x, d, x0, k0)"
   ]
  },
  {
   "cell_type": "markdown",
   "id": "14dd975e",
   "metadata": {},
   "source": [
    "## Initialise the system"
   ]
  },
  {
   "cell_type": "code",
   "execution_count": null,
   "id": "d6707baa",
   "metadata": {},
   "outputs": [],
   "source": [
    "initialise_schrodinger(x=x, psi_x0=psi_x0, V_x=V_x, hbar=hbar, m=m, k0=-28)"
   ]
  },
  {
   "cell_type": "markdown",
   "id": "0530d856",
   "metadata": {},
   "source": [
    "## The animation"
   ]
  },
  {
   "cell_type": "code",
   "execution_count": null,
   "id": "61b2fbad",
   "metadata": {},
   "outputs": [],
   "source": [
    "fig = plt.figure(figsize=(10,5))\n",
    "\n",
    "xlim = (-100, 100)\n",
    "ymin = 0\n",
    "ymax = 1.5*V0\n",
    "#was 1.5*V0\n",
    "ax = fig.add_subplot(111, xlim=xlim, ylim=(ymin * (ymax - ymin), ymax + 0.2 * (ymax - ymin)))\n",
    "psi_x_line, = ax.plot([], [], c='r', label=r'$|\\psi(x)|^2$')\n",
    "V_x_line, = ax.plot([], [], c='k', label=r'$V(x)$')\n",
    "\n",
    "title = ax.set_title('')\n",
    "ax.legend(prop = dict(size=12))\n",
    "ax.set_xlabel('$x$')\n",
    "ax.set_ylabel(r'$|\\psi(x)|^2$')\n",
    "\n",
    "def init():\n",
    "    psi_x_line.set_data([], [])\n",
    "    V_x_line.set_data([], [])\n",
    "    return (psi_x_line, V_x_line)\n",
    "\n",
    "def animate(i):\n",
    "    time_step(dt, N_steps)\n",
    "    psi_x_line.set_data(G_x, 4 * abs(get_psi_x()**2) )\n",
    "    V_x_line.set_data(G_x, G_V_x)\n",
    "    # title.set_text('t=%.2f' %S.t)\n",
    "    return (psi_x_line, V_x_line)\n",
    "\n",
    "anim = animation.FuncAnimation(fig, animate, init_func=init, frames=frames, interval=16, blit=True)\n",
    "\n",
    "#anim.save('/content/drive/MyDrive/Summer_Project/wave_experiment.mp4', fps=15, extra_args=['-vcodec', 'libx264'])\n",
    "# anim.save('wave_experiment.mp4', fps=15, extra_args=['-vcodec', 'libx264'])\n",
    "\n",
    "\n",
    "plt.show()"
   ]
  }
 ],
 "metadata": {
  "kernelspec": {
   "display_name": "py39",
   "language": "python",
   "name": "py39"
  },
  "language_info": {
   "codemirror_mode": {
    "name": "ipython",
    "version": 3
   },
   "file_extension": ".py",
   "mimetype": "text/x-python",
   "name": "python",
   "nbconvert_exporter": "python",
   "pygments_lexer": "ipython3",
   "version": "3.9.13"
  }
 },
 "nbformat": 4,
 "nbformat_minor": 5
}
